{
 "cells": [
  {
   "cell_type": "code",
   "execution_count": 1,
   "id": "125ee14a",
   "metadata": {},
   "outputs": [
    {
     "name": "stdout",
     "output_type": "stream",
     "text": [
      "Collecting pysparkNote: you may need to restart the kernel to use updated packages.\n",
      "  Using cached pyspark-3.2.1.tar.gz (281.4 MB)\n",
      "Collecting py4j==0.10.9.3\n",
      "  Using cached py4j-0.10.9.3-py2.py3-none-any.whl (198 kB)\n",
      "Building wheels for collected packages: pyspark\n",
      "  Building wheel for pyspark (setup.py): started\n",
      "  Building wheel for pyspark (setup.py): finished with status 'done'\n",
      "  Created wheel for pyspark: filename=pyspark-3.2.1-py2.py3-none-any.whl size=281853642 sha256=7fa5bb884bb2aa40cb6d4b36a7e8abc52f1366eeb2ad23f74e65faaa1c541265\n",
      "  Stored in directory: c:\\users\\shiva\\appdata\\local\\pip\\cache\\wheels\\52\\45\\50\\69db7b6e1da74a1b9fcc097827db9185cb8627117de852731e\n",
      "Successfully built pyspark\n",
      "Installing collected packages: py4j, pyspark\n",
      "Successfully installed py4j-0.10.9.3 pyspark-3.2.1\n",
      "\n"
     ]
    }
   ],
   "source": [
    "pip install pyspark"
   ]
  },
  {
   "cell_type": "code",
   "execution_count": 1,
   "id": "45c8a67e",
   "metadata": {},
   "outputs": [],
   "source": [
    "import pyspark"
   ]
  },
  {
   "cell_type": "code",
   "execution_count": 2,
   "id": "7ad70a59",
   "metadata": {},
   "outputs": [],
   "source": [
    "import pandas as pd"
   ]
  },
  {
   "cell_type": "code",
   "execution_count": 3,
   "id": "61997dcb",
   "metadata": {},
   "outputs": [],
   "source": [
    "from pyspark.sql import SparkSession"
   ]
  },
  {
   "cell_type": "code",
   "execution_count": 4,
   "id": "fd3045fd",
   "metadata": {},
   "outputs": [
    {
     "data": {
      "text/html": [
       "\n",
       "            <div>\n",
       "                <p><b>SparkSession - in-memory</b></p>\n",
       "                \n",
       "        <div>\n",
       "            <p><b>SparkContext</b></p>\n",
       "\n",
       "            <p><a href=\"http://192.168.1.11:4041\">Spark UI</a></p>\n",
       "\n",
       "            <dl>\n",
       "              <dt>Version</dt>\n",
       "                <dd><code>v3.2.1</code></dd>\n",
       "              <dt>Master</dt>\n",
       "                <dd><code>local[*]</code></dd>\n",
       "              <dt>AppName</dt>\n",
       "                <dd><code>practice</code></dd>\n",
       "            </dl>\n",
       "        </div>\n",
       "        \n",
       "            </div>\n",
       "        "
      ],
      "text/plain": [
       "<pyspark.sql.session.SparkSession at 0x1c97725f0a0>"
      ]
     },
     "execution_count": 4,
     "metadata": {},
     "output_type": "execute_result"
    }
   ],
   "source": [
    "spark = SparkSession.builder.appName('practice').getOrCreate()\n",
    "spark"
   ]
  },
  {
   "cell_type": "code",
   "execution_count": 60,
   "id": "e5ae7d00",
   "metadata": {},
   "outputs": [
    {
     "name": "stdout",
     "output_type": "stream",
     "text": [
      "+----+----+\n",
      "|name| age|\n",
      "+----+----+\n",
      "|   a|  21|\n",
      "|   b|  22|\n",
      "|   c|  23|\n",
      "|   d|  24|\n",
      "|null|null|\n",
      "|   f|null|\n",
      "|   g|  25|\n",
      "|   h|  26|\n",
      "+----+----+\n",
      "\n"
     ]
    },
    {
     "data": {
      "text/plain": [
       "(DataFrame[name: string, age: int], None)"
      ]
     },
     "execution_count": 60,
     "metadata": {},
     "output_type": "execute_result"
    }
   ],
   "source": [
    "df = spark.read.csv('test.csv',header=True,inferSchema=True)\n",
    "df,df.show()"
   ]
  },
  {
   "cell_type": "code",
   "execution_count": 61,
   "id": "42b8409e",
   "metadata": {},
   "outputs": [
    {
     "name": "stdout",
     "output_type": "stream",
     "text": [
      "root\n",
      " |-- name: string (nullable = true)\n",
      " |-- age: integer (nullable = true)\n",
      "\n"
     ]
    }
   ],
   "source": [
    "df.printSchema()"
   ]
  },
  {
   "cell_type": "code",
   "execution_count": 62,
   "id": "0ba12424",
   "metadata": {},
   "outputs": [
    {
     "name": "stdout",
     "output_type": "stream",
     "text": [
      "+----+----+\n",
      "|name| age|\n",
      "+----+----+\n",
      "|   a|  21|\n",
      "|   b|  22|\n",
      "|   c|  23|\n",
      "|   d|  24|\n",
      "|null|null|\n",
      "|   f|null|\n",
      "|   g|  25|\n",
      "|   h|  26|\n",
      "+----+----+\n",
      "\n"
     ]
    }
   ],
   "source": [
    "df.select(['name','age']).show()"
   ]
  },
  {
   "cell_type": "code",
   "execution_count": 63,
   "id": "1acab4bf",
   "metadata": {},
   "outputs": [
    {
     "data": {
      "text/plain": [
       "[('name', 'string'), ('age', 'int')]"
      ]
     },
     "execution_count": 63,
     "metadata": {},
     "output_type": "execute_result"
    }
   ],
   "source": [
    "df.dtypes"
   ]
  },
  {
   "cell_type": "code",
   "execution_count": 64,
   "id": "15ffd2de",
   "metadata": {},
   "outputs": [
    {
     "name": "stdout",
     "output_type": "stream",
     "text": [
      "+-------+----+------------------+\n",
      "|summary|name|               age|\n",
      "+-------+----+------------------+\n",
      "|  count|   7|                 6|\n",
      "|   mean|null|              23.5|\n",
      "| stddev|null|1.8708286933869707|\n",
      "|    min|   a|                21|\n",
      "|    max|   h|                26|\n",
      "+-------+----+------------------+\n",
      "\n",
      "+-------+------------------+\n",
      "|summary|               age|\n",
      "+-------+------------------+\n",
      "|  count|                 6|\n",
      "|   mean|              23.5|\n",
      "| stddev|1.8708286933869707|\n",
      "|    min|                21|\n",
      "|    max|                26|\n",
      "+-------+------------------+\n",
      "\n"
     ]
    },
    {
     "data": {
      "text/plain": [
       "(None, None)"
      ]
     },
     "execution_count": 64,
     "metadata": {},
     "output_type": "execute_result"
    }
   ],
   "source": [
    "df.describe().show(),df.select('age').describe().show()"
   ]
  },
  {
   "cell_type": "code",
   "execution_count": 65,
   "id": "2a492571",
   "metadata": {},
   "outputs": [
    {
     "name": "stdout",
     "output_type": "stream",
     "text": [
      "+----+----+-----------------+\n",
      "|name| age|age after 5 years|\n",
      "+----+----+-----------------+\n",
      "|   a|  21|               23|\n",
      "|   b|  22|               24|\n",
      "|   c|  23|               25|\n",
      "|   d|  24|               26|\n",
      "|null|null|             null|\n",
      "|   f|null|             null|\n",
      "|   g|  25|               27|\n",
      "|   h|  26|               28|\n",
      "+----+----+-----------------+\n",
      "\n"
     ]
    }
   ],
   "source": [
    "df = df.withColumn('age after 5 years',df['age']+2)\n",
    "df.show()"
   ]
  },
  {
   "cell_type": "code",
   "execution_count": 66,
   "id": "bd7df379",
   "metadata": {},
   "outputs": [
    {
     "name": "stdout",
     "output_type": "stream",
     "text": [
      "+----+----+\n",
      "|name| age|\n",
      "+----+----+\n",
      "|   a|  21|\n",
      "|   b|  22|\n",
      "|   c|  23|\n",
      "|   d|  24|\n",
      "|null|null|\n",
      "|   f|null|\n",
      "|   g|  25|\n",
      "|   h|  26|\n",
      "+----+----+\n",
      "\n"
     ]
    }
   ],
   "source": [
    "df = df.drop('age after 5 years')\n",
    "df.show()"
   ]
  },
  {
   "cell_type": "code",
   "execution_count": 67,
   "id": "cab2939b",
   "metadata": {},
   "outputs": [
    {
     "name": "stdout",
     "output_type": "stream",
     "text": [
      "+----+------------+\n",
      "|name|age in years|\n",
      "+----+------------+\n",
      "|   a|          21|\n",
      "|   b|          22|\n",
      "|   c|          23|\n",
      "|   d|          24|\n",
      "|null|        null|\n",
      "|   f|        null|\n",
      "|   g|          25|\n",
      "|   h|          26|\n",
      "+----+------------+\n",
      "\n"
     ]
    }
   ],
   "source": [
    "df = df.withColumnRenamed('age','age in years')\n",
    "df.show()"
   ]
  },
  {
   "cell_type": "code",
   "execution_count": 68,
   "id": "63e0c2e3",
   "metadata": {},
   "outputs": [
    {
     "name": "stdout",
     "output_type": "stream",
     "text": [
      "+----+------------+\n",
      "|name|age in years|\n",
      "+----+------------+\n",
      "|   a|          21|\n",
      "|   b|          22|\n",
      "|   c|          23|\n",
      "|   d|          24|\n",
      "|   g|          25|\n",
      "|   h|          26|\n",
      "+----+------------+\n",
      "\n",
      "+----+------------+\n",
      "|name|age in years|\n",
      "+----+------------+\n",
      "|   a|          21|\n",
      "|   b|          22|\n",
      "|   c|          23|\n",
      "|   d|          24|\n",
      "|   g|          25|\n",
      "|   h|          26|\n",
      "+----+------------+\n",
      "\n",
      "+----+------------+\n",
      "|name|age in years|\n",
      "+----+------------+\n",
      "|   a|          21|\n",
      "|   b|          22|\n",
      "|   c|          23|\n",
      "|   d|          24|\n",
      "|   f|        null|\n",
      "|   g|          25|\n",
      "|   h|          26|\n",
      "+----+------------+\n",
      "\n"
     ]
    },
    {
     "data": {
      "text/plain": [
       "(None, None, None)"
      ]
     },
     "execution_count": 68,
     "metadata": {},
     "output_type": "execute_result"
    }
   ],
   "source": [
    "df.na.drop().show(),df.na.drop(how= 'any').show(),df.na.drop('all').show()"
   ]
  },
  {
   "cell_type": "code",
   "execution_count": 71,
   "id": "9d0f8922",
   "metadata": {},
   "outputs": [
    {
     "name": "stdout",
     "output_type": "stream",
     "text": [
      "+----+------------+-----------------+\n",
      "|name|age in years|age after 5 years|\n",
      "+----+------------+-----------------+\n",
      "|   a|          21|               23|\n",
      "|   b|          22|               24|\n",
      "|   c|          23|               25|\n",
      "|   d|          24|               26|\n",
      "|null|        null|             null|\n",
      "|   f|        null|             null|\n",
      "|   g|          25|               27|\n",
      "|   h|          26|               28|\n",
      "+----+------------+-----------------+\n",
      "\n"
     ]
    }
   ],
   "source": [
    "df = df.withColumn('age after 5 years',df['age in years']+2)\n",
    "df.show()"
   ]
  },
  {
   "cell_type": "code",
   "execution_count": 78,
   "id": "d4d358ac",
   "metadata": {},
   "outputs": [
    {
     "name": "stdout",
     "output_type": "stream",
     "text": [
      "+----+------------+-----------------+\n",
      "|name|age in years|age after 5 years|\n",
      "+----+------------+-----------------+\n",
      "|   a|          21|               23|\n",
      "|   b|          22|               24|\n",
      "|   c|          23|               25|\n",
      "|   d|          24|               26|\n",
      "|   f|        null|             null|\n",
      "|   g|          25|               27|\n",
      "|   h|          26|               28|\n",
      "+----+------------+-----------------+\n",
      "\n"
     ]
    }
   ],
   "source": [
    "#thresh means atleat N non null value should be there\n",
    "N=1\n",
    "df.na.drop(how= 'any',thresh = N).show()"
   ]
  },
  {
   "cell_type": "code",
   "execution_count": 85,
   "id": "9959ef04",
   "metadata": {},
   "outputs": [
    {
     "name": "stdout",
     "output_type": "stream",
     "text": [
      "+----+------------+-----------------+\n",
      "|name|age in years|age after 5 years|\n",
      "+----+------------+-----------------+\n",
      "|   a|          21|               23|\n",
      "|   b|          22|               24|\n",
      "|   c|          23|               25|\n",
      "|   d|          24|               26|\n",
      "|   f|        null|             null|\n",
      "|   g|          25|               27|\n",
      "|   h|          26|               28|\n",
      "+----+------------+-----------------+\n",
      "\n"
     ]
    }
   ],
   "source": [
    "df.na.drop(how= 'any',subset=['name']).show()"
   ]
  },
  {
   "cell_type": "code",
   "execution_count": 104,
   "id": "a3d3a32a",
   "metadata": {},
   "outputs": [],
   "source": [
    "from pyspark.ml.feature import Imputer\n",
    "\n",
    "imputer1 = Imputer(inputCols=['age in years','age after 5 years'],\n",
    "                 outputCols=[\"{}_new\".format(c) for c in ['age in years','age after 5 years']]\n",
    "            ).setStrategy('mean')\n",
    "\n",
    "imputer2 = Imputer(inputCols=['age in years','age after 5 years'],\n",
    "                 outputCols=[\"{}_new\".format(c) for c in ['age in years','age after 5 years']]\n",
    "            ).setStrategy('median')\n",
    "\n",
    "imputer3 = Imputer(inputCols=['age in years','age after 5 years'],\n",
    "                 outputCols=[\"{}_new\".format(c) for c in ['age in years','age after 5 years']]\n",
    "            ).setStrategy('mode')"
   ]
  },
  {
   "cell_type": "code",
   "execution_count": 105,
   "id": "b9135107",
   "metadata": {},
   "outputs": [
    {
     "name": "stdout",
     "output_type": "stream",
     "text": [
      "+----+------------+-----------------+----------------+---------------------+\n",
      "|name|age in years|age after 5 years|age in years_new|age after 5 years_new|\n",
      "+----+------------+-----------------+----------------+---------------------+\n",
      "|   a|          21|               23|              21|                   23|\n",
      "|   b|          22|               24|              22|                   24|\n",
      "|   c|          23|               25|              23|                   25|\n",
      "|   d|          24|               26|              24|                   26|\n",
      "|null|        null|             null|              23|                   25|\n",
      "|   f|        null|             null|              23|                   25|\n",
      "|   g|          25|               27|              25|                   27|\n",
      "|   h|          26|               28|              26|                   28|\n",
      "+----+------------+-----------------+----------------+---------------------+\n",
      "\n",
      "+----+------------+-----------------+----------------+---------------------+\n",
      "|name|age in years|age after 5 years|age in years_new|age after 5 years_new|\n",
      "+----+------------+-----------------+----------------+---------------------+\n",
      "|   a|          21|               23|              21|                   23|\n",
      "|   b|          22|               24|              22|                   24|\n",
      "|   c|          23|               25|              23|                   25|\n",
      "|   d|          24|               26|              24|                   26|\n",
      "|null|        null|             null|              23|                   25|\n",
      "|   f|        null|             null|              23|                   25|\n",
      "|   g|          25|               27|              25|                   27|\n",
      "|   h|          26|               28|              26|                   28|\n",
      "+----+------------+-----------------+----------------+---------------------+\n",
      "\n",
      "+----+------------+-----------------+----------------+---------------------+\n",
      "|name|age in years|age after 5 years|age in years_new|age after 5 years_new|\n",
      "+----+------------+-----------------+----------------+---------------------+\n",
      "|   a|          21|               23|              21|                   23|\n",
      "|   b|          22|               24|              22|                   24|\n",
      "|   c|          23|               25|              23|                   25|\n",
      "|   d|          24|               26|              24|                   26|\n",
      "|null|        null|             null|              21|                   23|\n",
      "|   f|        null|             null|              21|                   23|\n",
      "|   g|          25|               27|              25|                   27|\n",
      "|   h|          26|               28|              26|                   28|\n",
      "+----+------------+-----------------+----------------+---------------------+\n",
      "\n"
     ]
    }
   ],
   "source": [
    "imputer1.fit(df).transform(df).show(),\n",
    "imputer2.fit(df).transform(df).show(),\n",
    "imputer3.fit(df).transform(df).show()"
   ]
  },
  {
   "cell_type": "code",
   "execution_count": 109,
   "id": "7a077aa0",
   "metadata": {},
   "outputs": [
    {
     "name": "stdout",
     "output_type": "stream",
     "text": [
      "+----+------------+-----------------+\n",
      "|name|age in years|age after 5 years|\n",
      "+----+------------+-----------------+\n",
      "|   a|          21|               23|\n",
      "|   b|          22|               24|\n",
      "|   c|          23|               25|\n",
      "|   d|          24|               26|\n",
      "|   g|          25|               27|\n",
      "|   h|          26|               28|\n",
      "+----+------------+-----------------+\n",
      "\n"
     ]
    }
   ],
   "source": [
    "df = df.na.drop()\n",
    "df.show()"
   ]
  },
  {
   "cell_type": "code",
   "execution_count": 137,
   "id": "c25783a0",
   "metadata": {},
   "outputs": [
    {
     "name": "stdout",
     "output_type": "stream",
     "text": [
      "+----+-----------------+\n",
      "|name|age after 5 years|\n",
      "+----+-----------------+\n",
      "|   a|               23|\n",
      "|   b|               24|\n",
      "|   c|               25|\n",
      "+----+-----------------+\n",
      "\n",
      "+----+-----------------+\n",
      "|name|age after 5 years|\n",
      "+----+-----------------+\n",
      "|   a|               23|\n",
      "|   b|               24|\n",
      "|   c|               25|\n",
      "+----+-----------------+\n",
      "\n",
      "+----+-----------------+\n",
      "|name|age after 5 years|\n",
      "+----+-----------------+\n",
      "|   d|               26|\n",
      "|   g|               27|\n",
      "|   h|               28|\n",
      "+----+-----------------+\n",
      "\n"
     ]
    },
    {
     "data": {
      "text/plain": [
       "[Row(name='a', age in years=21, age after 5 years=23),\n",
       " Row(name='b', age in years=22, age after 5 years=24),\n",
       " Row(name='c', age in years=23, age after 5 years=25)]"
      ]
     },
     "execution_count": 137,
     "metadata": {},
     "output_type": "execute_result"
    }
   ],
   "source": [
    "df.filter(df['age in years']<=23).select(['name','age after 5 years']).show(),\n",
    "df.filter((df['age in years']<=23) & (df['age in years']>=21)).select(['name','age after 5 years']).show(),\n",
    "df.filter(~(df['age in years']<=23)).select(['name','age after 5 years']).show(),\n",
    "df.filter(df['age in years']<=23).collect()"
   ]
  }
 ],
 "metadata": {
  "kernelspec": {
   "display_name": "Python 3 (ipykernel)",
   "language": "python",
   "name": "python3"
  },
  "language_info": {
   "codemirror_mode": {
    "name": "ipython",
    "version": 3
   },
   "file_extension": ".py",
   "mimetype": "text/x-python",
   "name": "python",
   "nbconvert_exporter": "python",
   "pygments_lexer": "ipython3",
   "version": "3.9.7"
  }
 },
 "nbformat": 4,
 "nbformat_minor": 5
}
